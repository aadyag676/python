{
 "cells": [
  {
   "cell_type": "markdown",
   "id": "9246a609",
   "metadata": {},
   "source": [
    "- user defined functions\n",
    "  - parametrized functions\n",
    "  - non parametrized functions\n",
    "  - return function\n",
    "  - non return functions\n",
    "  - default parametrized functions\n",
    "  - lambda function\n",
    "\n",
    "-built in functions"
   ]
  },
  {
   "cell_type": "code",
   "execution_count": 7,
   "id": "cbb723c2",
   "metadata": {},
   "outputs": [],
   "source": [
    "def greet(): #function intialization\n",
    "    print(\"hello user\")\n",
    "    print(\"welcome to our functions notebook\")\n",
    "    print(\"seeyou in another class\")"
   ]
  },
  {
   "cell_type": "code",
   "execution_count": 6,
   "id": "2573ded0",
   "metadata": {},
   "outputs": [
    {
     "name": "stdout",
     "output_type": "stream",
     "text": [
      "hello user\n",
      "welcome to our functions notebook\n",
      "seeyou in another class\n"
     ]
    }
   ],
   "source": [
    "greet()  #function calling"
   ]
  },
  {
   "cell_type": "code",
   "execution_count": null,
   "id": "694589e2",
   "metadata": {},
   "outputs": [],
   "source": [
    "#parametrized functions\n",
    "def sum(a,b): #parameters\n",
    "    print(a+b)"
   ]
  },
  {
   "cell_type": "code",
   "execution_count": 9,
   "id": "fe4fd68c",
   "metadata": {},
   "outputs": [
    {
     "name": "stdout",
     "output_type": "stream",
     "text": [
      "30\n"
     ]
    }
   ],
   "source": [
    "sum(10,20)"
   ]
  },
  {
   "cell_type": "code",
   "execution_count": 12,
   "id": "ec373130",
   "metadata": {},
   "outputs": [
    {
     "name": "stdout",
     "output_type": "stream",
     "text": [
      "6.5\n"
     ]
    }
   ],
   "source": [
    "def avg(a,b,c,d):\n",
    "    print((a+b+c+d)/4)\n",
    "average = avg(5,6,7,8)\n"
   ]
  },
  {
   "cell_type": "code",
   "execution_count": null,
   "id": "8208b1f8",
   "metadata": {},
   "outputs": [
    {
     "name": "stdout",
     "output_type": "stream",
     "text": [
      "6.5\n"
     ]
    }
   ],
   "source": [
    "#retrun functions\n",
    "def avg(a,b,c,d):\n",
    "    return((a+b+c+d)/4)\n",
    "average = avg(5,6,7,8)\n",
    "print(average)"
   ]
  },
  {
   "cell_type": "code",
   "execution_count": 15,
   "id": "a3708e5a",
   "metadata": {},
   "outputs": [
    {
     "name": "stdout",
     "output_type": "stream",
     "text": [
      "I love india\n",
      "I love usa\n",
      "I love canada\n",
      "I love uk\n"
     ]
    }
   ],
   "source": [
    "#default parametrized function\n",
    "def mycountry(country=\"uk\"):\n",
    "    print(f'I love {country}')\n",
    "mycountry(\"india\")\n",
    "mycountry(\"usa\")\n",
    "mycountry(\"canada\")\n",
    "mycountry()"
   ]
  },
  {
   "cell_type": "code",
   "execution_count": 16,
   "id": "874eb027",
   "metadata": {},
   "outputs": [
    {
     "data": {
      "text/plain": [
       "25"
      ]
     },
     "execution_count": 16,
     "metadata": {},
     "output_type": "execute_result"
    }
   ],
   "source": [
    "def square(a):\n",
    "    return a**2\n",
    "square(5)"
   ]
  },
  {
   "cell_type": "code",
   "execution_count": 17,
   "id": "121a7f32",
   "metadata": {},
   "outputs": [
    {
     "name": "stdout",
     "output_type": "stream",
     "text": [
      "25\n"
     ]
    }
   ],
   "source": [
    "square = lambda a : a**2\n",
    "print(square(5))"
   ]
  },
  {
   "cell_type": "code",
   "execution_count": 24,
   "id": "a8859e78",
   "metadata": {},
   "outputs": [
    {
     "name": "stdout",
     "output_type": "stream",
     "text": [
      "even number\n"
     ]
    }
   ],
   "source": [
    "def even(n):\n",
    "    if n % 2 == 0:\n",
    "       print(\"even number\")\n",
    "    else:\n",
    "        print(\"odd number\")\n",
    "even(4)"
   ]
  },
  {
   "cell_type": "code",
   "execution_count": 27,
   "id": "3a520b55",
   "metadata": {},
   "outputs": [
    {
     "name": "stdout",
     "output_type": "stream",
     "text": [
      "odd number\n"
     ]
    }
   ],
   "source": [
    "even = lambda n: print(\"even number\") if n%2==0 else print(\"odd number\")\n",
    "even(5)"
   ]
  },
  {
   "cell_type": "markdown",
   "id": "d36c13f6",
   "metadata": {},
   "source": [
    "- to find the number is prime or not\n",
    "- to take a list of 5 numbers and return a new list with square of each number\n",
    "- to take a list of 10 numbers and return a new list with only even numbers\n",
    "- to check year is leap or not\n",
    "- to calculate 10% of 200000\n",
    " "
   ]
  },
  {
   "cell_type": "code",
   "execution_count": 45,
   "id": "51d51728",
   "metadata": {},
   "outputs": [
    {
     "name": "stdout",
     "output_type": "stream",
     "text": [
      " not prime\n"
     ]
    }
   ],
   "source": [
    "num = int(input(\"enter a number\"))\n",
    "if num < 2:\n",
    "    print(\"not prime\")\n",
    "else:\n",
    "    for i in range(2,num):\n",
    "        if num%i==0:\n",
    "            print(\" not prime\")\n",
    "            break\n",
    "    else:\n",
    "        print(\"prime\")"
   ]
  },
  {
   "cell_type": "code",
   "execution_count": 42,
   "id": "7e130ce2",
   "metadata": {},
   "outputs": [
    {
     "name": "stdout",
     "output_type": "stream",
     "text": [
      "year is a leap year\n"
     ]
    }
   ],
   "source": [
    "def year(y):\n",
    "   if(y%4==0 and y%100!=0)or(y%400==0):\n",
    "    print(\"year is a leap year\")\n",
    "   else:\n",
    "    print(\"year is not a leap year\")\n",
    "\n",
    "year(2024)\n"
   ]
  },
  {
   "cell_type": "code",
   "execution_count": null,
   "id": "e3f153be",
   "metadata": {},
   "outputs": [],
   "source": [
    "def percent():\n",
    "    print"
   ]
  },
  {
   "cell_type": "code",
   "execution_count": 1,
   "id": "f695b740",
   "metadata": {},
   "outputs": [
    {
     "name": "stdout",
     "output_type": "stream",
     "text": [
      "[1, 4, 9, 16, 25]\n"
     ]
    }
   ],
   "source": [
    "list = [1,2,3,4,5]\n",
    "new_list = []\n",
    "for i in list:\n",
    "    new_list.append(i**2)\n",
    "print(new_list)"
   ]
  },
  {
   "cell_type": "code",
   "execution_count": 3,
   "id": "3c4ee482",
   "metadata": {},
   "outputs": [
    {
     "name": "stdout",
     "output_type": "stream",
     "text": [
      "[2, 4, 8, 0, 6]\n"
     ]
    }
   ],
   "source": [
    "list = [2,4,3,5,7,8,9,1,0,6]\n",
    "new_list = []\n",
    "for i in list:\n",
    "    if i % 2 == 0:\n",
    "        new_list.append(i)\n",
    "print(new_list)"
   ]
  },
  {
   "cell_type": "code",
   "execution_count": null,
   "id": "458da331",
   "metadata": {},
   "outputs": [],
   "source": []
  }
 ],
 "metadata": {
  "kernelspec": {
   "display_name": "base",
   "language": "python",
   "name": "python3"
  },
  "language_info": {
   "codemirror_mode": {
    "name": "ipython",
    "version": 3
   },
   "file_extension": ".py",
   "mimetype": "text/x-python",
   "name": "python",
   "nbconvert_exporter": "python",
   "pygments_lexer": "ipython3",
   "version": "3.13.5"
  }
 },
 "nbformat": 4,
 "nbformat_minor": 5
}
