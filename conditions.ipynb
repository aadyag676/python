{
 "cells": [
  {
   "cell_type": "code",
   "execution_count": null,
   "id": "e00981e4",
   "metadata": {},
   "outputs": [
    {
     "name": "stdout",
     "output_type": "stream",
     "text": [
      "you can vote.\n"
     ]
    }
   ],
   "source": [
    "age = int(input(\"enter your age:\"))\n",
    "\n",
    "if(age >= 18):\n",
    "  print(\"you can vote.\")\n",
    "else:\n",
    "  print(\"you cannot vote yet.\")\n",
    "  "
   ]
  },
  {
   "cell_type": "code",
   "execution_count": 5,
   "id": "5d5ae486",
   "metadata": {},
   "outputs": [
    {
     "name": "stdout",
     "output_type": "stream",
     "text": [
      "you choose paneer topping.\n"
     ]
    }
   ],
   "source": [
    "#WAP to choose pizza topping based on ser input\n",
    "\n",
    "topping = input(\"choose a pizza topping(paneer,mushroom,or onions):\")\n",
    "\n",
    "if topping ==\"paneer\" or topping == \"PANEER\":\n",
    "    print(\"you choose paneer topping.\")\n",
    "elif topping == \"mushroom\":\n",
    "    print(\"you choose mushroom topping.\")\n",
    "elif topping == \"onions\":\n",
    "    print(\"you choose onions topping.\")\n",
    "else:\n",
    "    print(\"invalid topping choice. please choose from paneer,mushroom,or onions.\")\n"
   ]
  },
  {
   "cell_type": "code",
   "execution_count": 12,
   "id": "c6d93b3d",
   "metadata": {},
   "outputs": [
    {
     "name": "stdout",
     "output_type": "stream",
     "text": [
      "number is even.\n"
     ]
    }
   ],
   "source": [
    "#wap to check if number is even or odd.\n",
    "number = int(input(\"enter a number:\"))\n",
    "if number % 2 == 0:\n",
    "    print(\"number is even.\")\n",
    "else:\n",
    "    print(\"number is odd.\")"
   ]
  },
  {
   "cell_type": "code",
   "execution_count": null,
   "id": "c7426757",
   "metadata": {},
   "outputs": [
    {
     "name": "stdout",
     "output_type": "stream",
     "text": [
      "number is +ve\n"
     ]
    }
   ],
   "source": [
    "# wap to check  if a number is +ive or -ive or zero.\n",
    "\n",
    "number = int(input(\"enter a number:\"))\n",
    "\n",
    "if number >=0:\n",
    "    print(\"number is +ve\")\n",
    "elif number<=0:\n",
    "    print(\"number is -ve.\")\n",
    "else:\n",
    "    print(\"number is zero.\")"
   ]
  },
  {
   "cell_type": "code",
   "execution_count": null,
   "id": "4943fdb3",
   "metadata": {},
   "outputs": [
    {
     "name": "stdout",
     "output_type": "stream",
     "text": [
      "num3 is largest number.\n"
     ]
    }
   ],
   "source": [
    "#wap to find the largest of three numbers\n",
    "\n",
    "num1 = input(\"enter the first number:\")\n",
    "num2 = input(\"enter thesecond number:\")\n",
    "num3 = input(\"enter the third number:\")\n",
    "\n",
    "if num1>=num2 and num1 >=num3:\n",
    "    print(\"num1 is largest number.\")\n",
    "elif num2>=num3:\n",
    "    print(\"num2 is largest number.\")\n",
    "else:\n",
    "    print(\"num3 is largest number.\")"
   ]
  },
  {
   "cell_type": "code",
   "execution_count": null,
   "id": "bc5ccd6b",
   "metadata": {},
   "outputs": [],
   "source": []
  }
 ],
 "metadata": {
  "kernelspec": {
   "display_name": "base",
   "language": "python",
   "name": "python3"
  },
  "language_info": {
   "codemirror_mode": {
    "name": "ipython",
    "version": 3
   },
   "file_extension": ".py",
   "mimetype": "text/x-python",
   "name": "python",
   "nbconvert_exporter": "python",
   "pygments_lexer": "ipython3",
   "version": "3.13.5"
  }
 },
 "nbformat": 4,
 "nbformat_minor": 5
}
