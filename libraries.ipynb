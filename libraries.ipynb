{
 "cells": [
  {
   "cell_type": "code",
   "execution_count": 2,
   "id": "122760fc",
   "metadata": {},
   "outputs": [],
   "source": [
    "import math\n",
    "\n"
   ]
  },
  {
   "cell_type": "code",
   "execution_count": 4,
   "id": "bc330631",
   "metadata": {},
   "outputs": [
    {
     "name": "stdout",
     "output_type": "stream",
     "text": [
      "4.0\n",
      "120\n",
      "10\n",
      "3\n",
      "2.0\n",
      "0.8939966636005579\n"
     ]
    }
   ],
   "source": [
    "print(math.sqrt(16))\n",
    "print(math.factorial(5))\n",
    "print(math.gcd(10,20))\n",
    "print(math.lcm(3))\n",
    "print(math.log(100,10))\n",
    "print(math.sin(90))"
   ]
  },
  {
   "cell_type": "code",
   "execution_count": 6,
   "id": "5dbd22ad",
   "metadata": {},
   "outputs": [],
   "source": [
    "from random import random, randint, choice, shuffle"
   ]
  },
  {
   "cell_type": "code",
   "execution_count": 7,
   "id": "b78b3cbc",
   "metadata": {},
   "outputs": [
    {
     "name": "stdout",
     "output_type": "stream",
     "text": [
      "get a number between 0 and 1 0.7868136332476088\n",
      "get a random integer between 1 and 10: 4\n",
      "get a random choice from a list: apple\n",
      "['alice', 'bob', 'david', 'charlie']\n"
     ]
    }
   ],
   "source": [
    "print(\"get a number between 0 and 1\", random())\n",
    "print(\"get a random integer between 1 and 10:\", randint(1,10))\n",
    "print(\"get a random choice from a list:\", choice(['apple','banana','cherry']))\n",
    "names=['alice','bob','charlie','david']\n",
    "shuffle(names)\n",
    "print(names)"
   ]
  },
  {
   "cell_type": "markdown",
   "id": "6caff527",
   "metadata": {},
   "source": [
    "there are mainly three libraries in python\n",
    "math\n",
    "random\n",
    "date time"
   ]
  },
  {
   "cell_type": "code",
   "execution_count": null,
   "id": "9a3059dd",
   "metadata": {},
   "outputs": [],
   "source": [
    "from datetime import datetime as dt #alias"
   ]
  },
  {
   "cell_type": "code",
   "execution_count": 11,
   "id": "8ae53976",
   "metadata": {},
   "outputs": [
    {
     "name": "stdout",
     "output_type": "stream",
     "text": [
      "current date and time: 2025-08-30 10:53:02.104805\n",
      "current date: 2025-08-30\n",
      "current time: 10:53:02.106187\n"
     ]
    }
   ],
   "source": [
    "print(\"current date and time:\", dt.now())\n",
    "print(\"current date:\", dt.now().date())\n",
    "print(\"current time:\", dt.now().time())"
   ]
  },
  {
   "cell_type": "code",
   "execution_count": 14,
   "id": "33221737",
   "metadata": {},
   "outputs": [
    {
     "name": "stdout",
     "output_type": "stream",
     "text": [
      "current month: 8\n",
      "current year: 2025\n",
      "current hour: 10\n",
      "current day: 30\n"
     ]
    }
   ],
   "source": [
    "print(\"current month:\", dt.now().month)\n",
    "print(\"current year:\", dt.now().year)\n",
    "print(\"current hour:\", dt.now().hour)\n",
    "print(\"current day:\", dt.now().day)"
   ]
  },
  {
   "cell_type": "code",
   "execution_count": 17,
   "id": "aae692ef",
   "metadata": {},
   "outputs": [
    {
     "name": "stdout",
     "output_type": "stream",
     "text": [
      "current day name: Sat\n",
      "current time: 11:02:37\n"
     ]
    }
   ],
   "source": [
    "print(\"current day name:\", dt.now().strftime(\"%a\"))\n",
    "print(\"current time:\", dt.now().strftime(\"%H:%M:%S\"))"
   ]
  },
  {
   "cell_type": "code",
   "execution_count": null,
   "id": "11fc91a3",
   "metadata": {},
   "outputs": [],
   "source": []
  }
 ],
 "metadata": {
  "kernelspec": {
   "display_name": "base",
   "language": "python",
   "name": "python3"
  },
  "language_info": {
   "codemirror_mode": {
    "name": "ipython",
    "version": 3
   },
   "file_extension": ".py",
   "mimetype": "text/x-python",
   "name": "python",
   "nbconvert_exporter": "python",
   "pygments_lexer": "ipython3",
   "version": "3.13.5"
  }
 },
 "nbformat": 4,
 "nbformat_minor": 5
}
