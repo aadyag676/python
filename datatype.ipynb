{
 "cells": [
  {
   "cell_type": "code",
   "execution_count": 6,
   "id": "cfd0f925",
   "metadata": {},
   "outputs": [
    {
     "name": "stdout",
     "output_type": "stream",
     "text": [
      "['john', 'herry', 'robert']\n",
      "john\n",
      "['jack', 'herry', 'robert']\n"
     ]
    }
   ],
   "source": [
    "#special datatype\n",
    "\n",
    "#lists\n",
    "\n",
    "names = [\"john\",\"herry\",\"robert\"]\n",
    "print(names)\n",
    "print(names[0])\n",
    "names[0]=\"jack\"\n",
    "print(names)\n"
   ]
  },
  {
   "cell_type": "code",
   "execution_count": 7,
   "id": "dbca66b9",
   "metadata": {},
   "outputs": [
    {
     "name": "stdout",
     "output_type": "stream",
     "text": [
      "(56, 6, 78, 6)\n"
     ]
    },
    {
     "data": {
      "text/plain": [
       "56"
      ]
     },
     "execution_count": 7,
     "metadata": {},
     "output_type": "execute_result"
    }
   ],
   "source": [
    "#tuples\n",
    "\n",
    "coordinates= (56,6,78,6)\n",
    "print(coordinates)\n",
    "\n",
    "coordinates[0]"
   ]
  },
  {
   "cell_type": "code",
   "execution_count": 14,
   "id": "10860040",
   "metadata": {},
   "outputs": [
    {
     "name": "stdout",
     "output_type": "stream",
     "text": [
      "{'orange', 'banana', 'cherry', 'apple'}\n"
     ]
    }
   ],
   "source": [
    "#sets\n",
    "\n",
    "nums ={1,2,2,3,3,3,4,5}\n",
    "fruits={\"apple\",\"banana\",\"cherry\"}\n",
    "fruits.add(\"orange\")\n",
    "print(fruits)"
   ]
  },
  {
   "cell_type": "code",
   "execution_count": 11,
   "id": "ec68e46a",
   "metadata": {},
   "outputs": [
    {
     "name": "stdout",
     "output_type": "stream",
     "text": [
      "banana\n",
      "cherry\n",
      "apple\n"
     ]
    }
   ],
   "source": [
    "for i in fruits:\n",
    "    print(i)"
   ]
  },
  {
   "cell_type": "code",
   "execution_count": 13,
   "id": "a8ec7252",
   "metadata": {},
   "outputs": [
    {
     "name": "stdout",
     "output_type": "stream",
     "text": [
      "{'name': 'aadya', 'location': 'up'}\n",
      "aadya\n"
     ]
    }
   ],
   "source": [
    "#dictonaries\n",
    "\n",
    "user={\"name\":\"aadya\",\"location\":\"up\",}\n",
    "print(user)\n",
    "print(user[\"name\"])"
   ]
  }
 ],
 "metadata": {
  "kernelspec": {
   "display_name": "base",
   "language": "python",
   "name": "python3"
  },
  "language_info": {
   "codemirror_mode": {
    "name": "ipython",
    "version": 3
   },
   "file_extension": ".py",
   "mimetype": "text/x-python",
   "name": "python",
   "nbconvert_exporter": "python",
   "pygments_lexer": "ipython3",
   "version": "3.13.5"
  }
 },
 "nbformat": 4,
 "nbformat_minor": 5
}
