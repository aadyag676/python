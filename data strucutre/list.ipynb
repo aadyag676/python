{
 "cells": [
  {
   "cell_type": "code",
   "execution_count": 2,
   "id": "601c639b",
   "metadata": {},
   "outputs": [
    {
     "name": "stdout",
     "output_type": "stream",
     "text": [
      "facebok\n",
      "instagram\n",
      "snapchat\n",
      "youtube\n",
      "whatsapp\n",
      "telegram\n",
      "messenger\n",
      "phone\n",
      "canva\n",
      "twitter\n"
     ]
    }
   ],
   "source": [
    "apps =[\"facebok\",\"instagram\",\"snapchat\",\"youtube\",\"whatsapp\",\"telegram\",\"messenger\",\"phone\",\"canva\",\"twitter\"]\n",
    "\n",
    "for app in apps:\n",
    "    print(app)"
   ]
  },
  {
   "cell_type": "markdown",
   "id": "adf04b21",
   "metadata": {},
   "source": [
    "   Indexing and slicing\n"
   ]
  },
  {
   "cell_type": "code",
   "execution_count": 4,
   "id": "a9aa57b7",
   "metadata": {},
   "outputs": [
    {
     "name": "stdout",
     "output_type": "stream",
     "text": [
      "snapchat\n",
      "telegram\n"
     ]
    }
   ],
   "source": [
    "print(apps[2])\n",
    "\n",
    "print(apps[5])"
   ]
  },
  {
   "cell_type": "code",
   "execution_count": 6,
   "id": "467f53f7",
   "metadata": {},
   "outputs": [
    {
     "name": "stdout",
     "output_type": "stream",
     "text": [
      "phone\n"
     ]
    }
   ],
   "source": [
    "print(apps[-3])"
   ]
  },
  {
   "cell_type": "code",
   "execution_count": 13,
   "id": "eff07c9f",
   "metadata": {},
   "outputs": [
    {
     "name": "stdout",
     "output_type": "stream",
     "text": [
      "['instagram', 'snapchat', 'youtube', 'whatsapp']\n",
      "['instagram', 'youtube', 'telegram', 'phone']\n",
      "['snapchat', 'youtube', 'whatsapp', 'telegram', 'messenger', 'phone', 'canva', 'twitter']\n",
      "['facebok', 'instagram', 'snapchat', 'youtube', 'whatsapp']\n",
      "['facebok', 'instagram', 'snapchat', 'youtube', 'whatsapp', 'telegram', 'messenger', 'phone', 'canva', 'twitter']\n",
      "['telegram', 'messenger', 'phone', 'canva', 'twitter']\n"
     ]
    }
   ],
   "source": [
    "print(apps[1:5])\n",
    "print(apps[1:8:2])\n",
    "print(apps[2:])\n",
    "print(apps[:5])\n",
    "print(apps[:])\n",
    "print(apps[-5:])"
   ]
  },
  {
   "cell_type": "markdown",
   "id": "17c230fa",
   "metadata": {},
   "source": [
    " list  METHODS\n",
    "\n",
    " .append()-to add item at the end of the list\n",
    " .insert()-to add item at any specific position in the list\n",
    " .pop()-to delete item using its index position\n",
    " .remove()-to delete item using item name\n",
    " .copy()-to make a duplicate of the list\n",
    " .sort()-to sort the list in particular order\n",
    " .extend()-to combine two list into a single list\n",
    " .clear()-to delete all the items from the list but not the list"
   ]
  },
  {
   "cell_type": "code",
   "execution_count": 14,
   "id": "c26ef7e6",
   "metadata": {},
   "outputs": [
    {
     "name": "stdout",
     "output_type": "stream",
     "text": [
      "['facebok', 'instagram', 'snapchat', 'youtube', 'whatsapp', 'telegram', 'messenger', 'phone', 'canva', 'twitter']\n"
     ]
    }
   ],
   "source": [
    "print(apps)"
   ]
  },
  {
   "cell_type": "code",
   "execution_count": 15,
   "id": "2e00f7e5",
   "metadata": {},
   "outputs": [
    {
     "name": "stdout",
     "output_type": "stream",
     "text": [
      "['facebok', 'instagram', 'snapchat', 'youtube', 'whatsapp', 'telegram', 'messenger', 'phone', 'canva', 'twitter', 'netflix']\n"
     ]
    }
   ],
   "source": [
    "apps.append(\"netflix\")\n",
    "print(apps)"
   ]
  },
  {
   "cell_type": "code",
   "execution_count": 16,
   "id": "d2354815",
   "metadata": {},
   "outputs": [
    {
     "name": "stdout",
     "output_type": "stream",
     "text": [
      "['chatgpt', 'facebok', 'instagram', 'snapchat', 'youtube', 'whatsapp', 'telegram', 'messenger', 'phone', 'canva', 'twitter', 'netflix']\n"
     ]
    }
   ],
   "source": [
    "apps.insert(0,\"chatgpt\")\n",
    "print(apps)"
   ]
  },
  {
   "cell_type": "code",
   "execution_count": 17,
   "id": "4e5d2a77",
   "metadata": {},
   "outputs": [
    {
     "name": "stdout",
     "output_type": "stream",
     "text": [
      "['chatgpt', 'facebok', 'instagram', 'youtube', 'whatsapp', 'telegram', 'messenger', 'phone', 'canva', 'twitter', 'netflix']\n"
     ]
    }
   ],
   "source": [
    "apps.pop(3)\n",
    "print(apps)"
   ]
  },
  {
   "cell_type": "code",
   "execution_count": 20,
   "id": "ba5f068a",
   "metadata": {},
   "outputs": [
    {
     "name": "stdout",
     "output_type": "stream",
     "text": [
      "['chatgpt', 'facebok', 'instagram', 'youtube', 'telegram', 'messenger', 'phone', 'canva', 'twitter', 'netflix']\n"
     ]
    }
   ],
   "source": [
    "apps.remove(\"whatsapp\")\n",
    "print(apps)"
   ]
  },
  {
   "cell_type": "code",
   "execution_count": 25,
   "id": "d6b148b3",
   "metadata": {},
   "outputs": [
    {
     "name": "stdout",
     "output_type": "stream",
     "text": [
      "['facebok', 'instagram', 'snapchat', 'youtube', 'whatsapp', 'telegram', 'messenger', 'phone', 'canva', 'twitter']\n"
     ]
    }
   ],
   "source": [
    "copy = apps.copy()\n",
    "print(copy)"
   ]
  },
  {
   "cell_type": "code",
   "execution_count": 27,
   "id": "7bc0d4b6",
   "metadata": {},
   "outputs": [
    {
     "name": "stdout",
     "output_type": "stream",
     "text": [
      "[]\n"
     ]
    }
   ],
   "source": [
    "copy.clear()\n",
    "print(copy)"
   ]
  },
  {
   "cell_type": "code",
   "execution_count": 22,
   "id": "51bd1d3b",
   "metadata": {},
   "outputs": [
    {
     "name": "stdout",
     "output_type": "stream",
     "text": [
      "['canva', 'chatgpt', 'facebok', 'instagram', 'messenger', 'netflix', 'phone', 'telegram', 'twitter', 'youtube']\n"
     ]
    }
   ],
   "source": [
    "apps.sort()\n",
    "print(apps)"
   ]
  },
  {
   "cell_type": "code",
   "execution_count": 28,
   "id": "03131a49",
   "metadata": {},
   "outputs": [
    {
     "name": "stdout",
     "output_type": "stream",
     "text": [
      "[1, 2, 3, 4, 5]\n"
     ]
    }
   ],
   "source": [
    "apps2=[1,2,3,4,5]\n",
    "print(apps2)"
   ]
  },
  {
   "cell_type": "code",
   "execution_count": 29,
   "id": "38c6720c",
   "metadata": {},
   "outputs": [
    {
     "name": "stdout",
     "output_type": "stream",
     "text": [
      "['facebok', 'instagram', 'snapchat', 'youtube', 'whatsapp', 'telegram', 'messenger', 'phone', 'canva', 'twitter', 1, 2, 3, 4, 5]\n"
     ]
    }
   ],
   "source": [
    "apps.extend(apps2)\n",
    "print(apps)"
   ]
  },
  {
   "cell_type": "code",
   "execution_count": 30,
   "id": "71fb8b1b",
   "metadata": {},
   "outputs": [
    {
     "name": "stdout",
     "output_type": "stream",
     "text": [
      "[1, 2, 3, 4, 5, 'facebok', 'instagram', 'snapchat', 'youtube', 'whatsapp', 'telegram', 'messenger', 'phone', 'canva', 'twitter', 1, 2, 3, 4, 5]\n"
     ]
    }
   ],
   "source": [
    "apps2.extend(apps)\n",
    "print(apps2)"
   ]
  }
 ],
 "metadata": {
  "kernelspec": {
   "display_name": "base",
   "language": "python",
   "name": "python3"
  },
  "language_info": {
   "codemirror_mode": {
    "name": "ipython",
    "version": 3
   },
   "file_extension": ".py",
   "mimetype": "text/x-python",
   "name": "python",
   "nbconvert_exporter": "python",
   "pygments_lexer": "ipython3",
   "version": "3.13.5"
  }
 },
 "nbformat": 4,
 "nbformat_minor": 5
}
