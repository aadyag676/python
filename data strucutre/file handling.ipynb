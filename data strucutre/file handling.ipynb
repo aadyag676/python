{
 "cells": [
  {
   "cell_type": "code",
   "execution_count": 1,
   "id": "3a33ae40",
   "metadata": {},
   "outputs": [
    {
     "name": "stdout",
     "output_type": "stream",
     "text": [
      "hello world\n",
      "\n"
     ]
    }
   ],
   "source": [
    "file = open('text.txt','r') # open file in read mode\n",
    "print(file.read())"
   ]
  },
  {
   "cell_type": "code",
   "execution_count": 5,
   "id": "ea5686a0",
   "metadata": {},
   "outputs": [
    {
     "name": "stdout",
     "output_type": "stream",
     "text": [
      "file written successfully\n",
      "hello bddy\n"
     ]
    }
   ],
   "source": [
    "file = open('text.txt','w') # open file in write mode\n",
    "file.write(\"hello bddy\")\n",
    "print('file written successfully')\n",
    "file = open('text.txt','r') # open file in read mode\n",
    "print(file.read())\n"
   ]
  },
  {
   "cell_type": "code",
   "execution_count": 6,
   "id": "7975c939",
   "metadata": {},
   "outputs": [
    {
     "name": "stdout",
     "output_type": "stream",
     "text": [
      "file written successfully\n",
      "hello bddy\n",
      "hello again\n"
     ]
    }
   ],
   "source": [
    "file = open('text.txt','a') # open file in append mode\n",
    "file.write(\"\\nhello again\")\n",
    "print('file written successfully')\n",
    "file = open('text.txt','r') # open file in read mode\n",
    "print(file.read())\n"
   ]
  },
  {
   "cell_type": "code",
   "execution_count": 7,
   "id": "6ec422c8",
   "metadata": {},
   "outputs": [],
   "source": [
    "import os\n"
   ]
  },
  {
   "cell_type": "code",
   "execution_count": 8,
   "id": "33269dd1",
   "metadata": {},
   "outputs": [
    {
     "name": "stdout",
     "output_type": "stream",
     "text": [
      "c:\\Users\\RAC-L-006-25\\Desktop\\python\\data strucutre\n"
     ]
    }
   ],
   "source": [
    "#to get current working directory\n",
    "print(os.getcwd())"
   ]
  },
  {
   "cell_type": "code",
   "execution_count": 9,
   "id": "0b838fea",
   "metadata": {},
   "outputs": [
    {
     "name": "stdout",
     "output_type": "stream",
     "text": [
      "files in the current working directory ['dictionary.ipynb', 'file handling.ipynb', 'list.ipynb', 'practice ques.ipynb', 'string.ipynb', 'text.txt']\n"
     ]
    }
   ],
   "source": [
    "files = os.listdir()\n",
    "print('files in the current working directory', files)"
   ]
  },
  {
   "cell_type": "code",
   "execution_count": 10,
   "id": "12b7a5df",
   "metadata": {},
   "outputs": [
    {
     "name": "stdout",
     "output_type": "stream",
     "text": [
      "files in the directory ['dictionary.ipynb', 'file handling.ipynb', 'list.ipynb', 'practice ques.ipynb', 'string.ipynb', 'text.txt']\n"
     ]
    }
   ],
   "source": [
    "files = os.listdir(r\"C:\\Users\\RAC-L-006-25\\Desktop\\python\\data strucutre\")\n",
    "print('files in the directory', files)"
   ]
  },
  {
   "cell_type": "code",
   "execution_count": 12,
   "id": "edb64163",
   "metadata": {},
   "outputs": [
    {
     "name": "stdout",
     "output_type": "stream",
     "text": [
      "=> C:\\Users\\RAC-L-006-25\\Desktop\\python\n",
      "📁 ['.git', 'data strucutre']\n",
      "📃 ['base.py', 'conditions.ipynb', 'datatype.ipynb', 'functions.ipynb', 'libraries.ipynb', 'loops.ipynb', 'operators.ipynb']\n",
      "=> C:\\Users\\RAC-L-006-25\\Desktop\\python\\.git\n",
      "📁 ['hooks', 'info', 'logs', 'objects', 'refs']\n",
      "📃 ['COMMIT_EDITMSG', 'config', 'description', 'FETCH_HEAD', 'HEAD', 'index']\n",
      "=> C:\\Users\\RAC-L-006-25\\Desktop\\python\\.git\\hooks\n",
      "📁 []\n",
      "📃 ['applypatch-msg.sample', 'commit-msg.sample', 'fsmonitor-watchman.sample', 'post-update.sample', 'pre-applypatch.sample', 'pre-commit.sample', 'pre-merge-commit.sample', 'pre-push.sample', 'pre-rebase.sample', 'pre-receive.sample', 'prepare-commit-msg.sample', 'push-to-checkout.sample', 'sendemail-validate.sample', 'update.sample']\n",
      "=> C:\\Users\\RAC-L-006-25\\Desktop\\python\\.git\\info\n",
      "📁 []\n",
      "📃 ['exclude']\n",
      "=> C:\\Users\\RAC-L-006-25\\Desktop\\python\\.git\\logs\n",
      "📁 ['refs']\n",
      "📃 ['HEAD']\n",
      "=> C:\\Users\\RAC-L-006-25\\Desktop\\python\\.git\\logs\\refs\n",
      "📁 ['heads', 'remotes']\n",
      "📃 []\n",
      "=> C:\\Users\\RAC-L-006-25\\Desktop\\python\\.git\\logs\\refs\\heads\n",
      "📁 []\n",
      "📃 ['main']\n",
      "=> C:\\Users\\RAC-L-006-25\\Desktop\\python\\.git\\logs\\refs\\remotes\n",
      "📁 ['origin']\n",
      "📃 []\n",
      "=> C:\\Users\\RAC-L-006-25\\Desktop\\python\\.git\\logs\\refs\\remotes\\origin\n",
      "📁 []\n",
      "📃 ['HEAD', 'main']\n",
      "=> C:\\Users\\RAC-L-006-25\\Desktop\\python\\.git\\objects\n",
      "📁 ['06', '1f', '34', '35', '4e', '5e', '7a', '86', '8c', '8d', '9d', 'd9', 'ee', 'f6', 'info', 'pack']\n",
      "📃 []\n",
      "=> C:\\Users\\RAC-L-006-25\\Desktop\\python\\.git\\objects\\06\n",
      "📁 []\n",
      "📃 ['502d1cee942c41a8dedfdcb31cf65946a0a969']\n",
      "=> C:\\Users\\RAC-L-006-25\\Desktop\\python\\.git\\objects\\1f\n",
      "📁 []\n",
      "📃 ['f1f281163ef217f35d07210646b308ad9e8dc7']\n",
      "=> C:\\Users\\RAC-L-006-25\\Desktop\\python\\.git\\objects\\34\n",
      "📁 []\n",
      "📃 ['cdfee55bf66ef1f3a65a2b1cfcb88dc11bb780']\n",
      "=> C:\\Users\\RAC-L-006-25\\Desktop\\python\\.git\\objects\\35\n",
      "📁 []\n",
      "📃 ['c392da2953b063887784a94d281810dd894cc4']\n",
      "=> C:\\Users\\RAC-L-006-25\\Desktop\\python\\.git\\objects\\4e\n",
      "📁 []\n",
      "📃 ['6ceb5f9375cb7b5ee4ee2d4794656b51dfeb4c']\n",
      "=> C:\\Users\\RAC-L-006-25\\Desktop\\python\\.git\\objects\\5e\n",
      "📁 []\n",
      "📃 ['20169bfae845f08a7bb15fa8857af4a3695734']\n",
      "=> C:\\Users\\RAC-L-006-25\\Desktop\\python\\.git\\objects\\7a\n",
      "📁 []\n",
      "📃 ['bdc0a91da01c29c664f5b353d69396b7ca2c34']\n",
      "=> C:\\Users\\RAC-L-006-25\\Desktop\\python\\.git\\objects\\86\n",
      "📁 []\n",
      "📃 ['c5ca9090855c1abf043b26de2d95b0ab39654f']\n",
      "=> C:\\Users\\RAC-L-006-25\\Desktop\\python\\.git\\objects\\8c\n",
      "📁 []\n",
      "📃 ['de7829c178ede96040e03f17c416d15bdacd01']\n",
      "=> C:\\Users\\RAC-L-006-25\\Desktop\\python\\.git\\objects\\8d\n",
      "📁 []\n",
      "📃 ['dbb7ab4dd86c5082c3a52a9c38a83ba2ffd821']\n",
      "=> C:\\Users\\RAC-L-006-25\\Desktop\\python\\.git\\objects\\9d\n",
      "📁 []\n",
      "📃 ['03f37084854117d78de7f7d7abfc7a31f93627']\n",
      "=> C:\\Users\\RAC-L-006-25\\Desktop\\python\\.git\\objects\\d9\n",
      "📁 []\n",
      "📃 ['26ab0ad1d84191c7c21a63d9743015cf52af31']\n",
      "=> C:\\Users\\RAC-L-006-25\\Desktop\\python\\.git\\objects\\ee\n",
      "📁 []\n",
      "📃 ['6eaaf2b9201091e628acd1b619c531b7595261']\n",
      "=> C:\\Users\\RAC-L-006-25\\Desktop\\python\\.git\\objects\\f6\n",
      "📁 []\n",
      "📃 ['6477c3181c25f558ee456bfa47e37edef1976e']\n",
      "=> C:\\Users\\RAC-L-006-25\\Desktop\\python\\.git\\objects\\info\n",
      "📁 []\n",
      "📃 []\n",
      "=> C:\\Users\\RAC-L-006-25\\Desktop\\python\\.git\\objects\\pack\n",
      "📁 []\n",
      "📃 []\n",
      "=> C:\\Users\\RAC-L-006-25\\Desktop\\python\\.git\\refs\n",
      "📁 ['heads', 'remotes', 'tags']\n",
      "📃 []\n",
      "=> C:\\Users\\RAC-L-006-25\\Desktop\\python\\.git\\refs\\heads\n",
      "📁 []\n",
      "📃 ['main']\n",
      "=> C:\\Users\\RAC-L-006-25\\Desktop\\python\\.git\\refs\\remotes\n",
      "📁 ['origin']\n",
      "📃 []\n",
      "=> C:\\Users\\RAC-L-006-25\\Desktop\\python\\.git\\refs\\remotes\\origin\n",
      "📁 []\n",
      "📃 ['HEAD', 'main']\n",
      "=> C:\\Users\\RAC-L-006-25\\Desktop\\python\\.git\\refs\\tags\n",
      "📁 []\n",
      "📃 []\n",
      "=> C:\\Users\\RAC-L-006-25\\Desktop\\python\\data strucutre\n",
      "📁 []\n",
      "📃 ['dictionary.ipynb', 'file handling.ipynb', 'list.ipynb', 'practice ques.ipynb', 'string.ipynb', 'text.txt']\n",
      "total files 55\n"
     ]
    }
   ],
   "source": [
    "total_files = 0\n",
    "for path, folders, files in os.walk(r\"C:\\Users\\RAC-L-006-25\\Desktop\\python\"):\n",
    "    print('=>',path)\n",
    "    print('📁',folders)\n",
    "    print('📃',files)\n",
    "    total_files+=len(files)\n",
    "print(\"total files\", total_files)"
   ]
  },
  {
   "cell_type": "code",
   "execution_count": null,
   "id": "cdba262d",
   "metadata": {},
   "outputs": [],
   "source": []
  }
 ],
 "metadata": {
  "kernelspec": {
   "display_name": "base",
   "language": "python",
   "name": "python3"
  },
  "language_info": {
   "codemirror_mode": {
    "name": "ipython",
    "version": 3
   },
   "file_extension": ".py",
   "mimetype": "text/x-python",
   "name": "python",
   "nbconvert_exporter": "python",
   "pygments_lexer": "ipython3",
   "version": "3.13.5"
  }
 },
 "nbformat": 4,
 "nbformat_minor": 5
}
