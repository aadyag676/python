{
 "cells": [
  {
   "cell_type": "markdown",
   "id": "4635e1b0",
   "metadata": {},
   "source": [
    "- how to declare dictionary\n",
    "- how to access key and values\n",
    "- how to apply loops\n",
    "- how to make nested dictionaries\n",
    "- how to access values in nested dictionary"
   ]
  },
  {
   "cell_type": "code",
   "execution_count": 2,
   "id": "2babf42e",
   "metadata": {},
   "outputs": [
    {
     "name": "stdout",
     "output_type": "stream",
     "text": [
      "{'name': 'aadya', 'rollno': 1, 'sem': 5}\n"
     ]
    }
   ],
   "source": [
    "stu={\"name\":\"aadya\",\"rollno\": 1,\"sem\": 5 }\n",
    "print(stu)"
   ]
  },
  {
   "cell_type": "code",
   "execution_count": 3,
   "id": "b41a20d2",
   "metadata": {},
   "outputs": [
    {
     "name": "stdout",
     "output_type": "stream",
     "text": [
      "{'lko': [35, 40], 'delhi': [55, 23], 'mumbai': [44, 32]}\n"
     ]
    }
   ],
   "source": [
    "temp ={ 'lko':[35,40],\n",
    "        'delhi':[55,23],\n",
    "         'mumbai':[44,32]}\n",
    "print(temp)"
   ]
  },
  {
   "cell_type": "code",
   "execution_count": 4,
   "id": "d9f9b60d",
   "metadata": {},
   "outputs": [
    {
     "name": "stdout",
     "output_type": "stream",
     "text": [
      "{'name': 'alice', 'age': '23', 'city': 'lko'}\n"
     ]
    }
   ],
   "source": [
    "info = dict(name = \"alice\",age = input(\"enter your age\"), city =\"lko\")\n",
    "print(info)"
   ]
  },
  {
   "cell_type": "code",
   "execution_count": 5,
   "id": "19dd7c5d",
   "metadata": {},
   "outputs": [
    {
     "data": {
      "text/plain": [
       "'23'"
      ]
     },
     "execution_count": 5,
     "metadata": {},
     "output_type": "execute_result"
    }
   ],
   "source": [
    "#1st method to access value through key\n",
    "stu['name']\n",
    "info['age']"
   ]
  },
  {
   "cell_type": "code",
   "execution_count": 6,
   "id": "83651da5",
   "metadata": {},
   "outputs": [
    {
     "data": {
      "text/plain": [
       "[55, 23]"
      ]
     },
     "execution_count": 6,
     "metadata": {},
     "output_type": "execute_result"
    }
   ],
   "source": [
    "#2nd method to access value through key\n",
    "stu.get(\"name\")\n",
    "temp.get(\"delhi\")"
   ]
  },
  {
   "cell_type": "code",
   "execution_count": null,
   "id": "47c1d777",
   "metadata": {},
   "outputs": [
    {
     "name": "stdout",
     "output_type": "stream",
     "text": [
      "dict_keys(['name', 'rollno', 'sem'])\n"
     ]
    }
   ],
   "source": [
    "print(stu.keys())"
   ]
  },
  {
   "cell_type": "code",
   "execution_count": 8,
   "id": "f9b3a309",
   "metadata": {},
   "outputs": [
    {
     "name": "stdout",
     "output_type": "stream",
     "text": [
      "dict_values(['aadya', 1, 5])\n"
     ]
    }
   ],
   "source": [
    "print(stu.values())"
   ]
  },
  {
   "cell_type": "code",
   "execution_count": 9,
   "id": "f9aa3cef",
   "metadata": {},
   "outputs": [
    {
     "name": "stdout",
     "output_type": "stream",
     "text": [
      "dict_items([('name', 'aadya'), ('rollno', 1), ('sem', 5)])\n"
     ]
    }
   ],
   "source": [
    "print(stu.items())"
   ]
  },
  {
   "cell_type": "code",
   "execution_count": 10,
   "id": "32a7dd94",
   "metadata": {},
   "outputs": [
    {
     "name": "stdout",
     "output_type": "stream",
     "text": [
      "name:alice\n",
      "age:23\n",
      "city:lko\n"
     ]
    }
   ],
   "source": [
    "for k,v in info.items():\n",
    "    print(f'{k}:{v}')"
   ]
  },
  {
   "cell_type": "code",
   "execution_count": 11,
   "id": "65fe7a8f",
   "metadata": {},
   "outputs": [
    {
     "name": "stdout",
     "output_type": "stream",
     "text": [
      "{'emp001': {'name': 'alice', 'age': 30, 'department': 'HR'}, 'emp002': {'name': 'BOB', 'age': 23, 'department': 'CR'}, 'emp003': {'name': 'charlie', 'age': 20, 'department': 'FINANCE'}}\n"
     ]
    }
   ],
   "source": [
    "company = {\n",
    "    'emp001':{\n",
    "        'name':'alice',\n",
    "        'age' : 30,\n",
    "        'department': 'HR' \n",
    "    },\n",
    "  'emp002':{\n",
    "     'name':'BOB',\n",
    "     'age' : 23,\n",
    "    'department': 'CR' \n",
    "    },\n",
    "'emp003':{\n",
    "        'name':'charlie',\n",
    "        'age' : 20,\n",
    "        'department': 'FINANCE' \n",
    "    }\n",
    "}\n",
    "print(company)"
   ]
  },
  {
   "cell_type": "code",
   "execution_count": 12,
   "id": "60daf725",
   "metadata": {},
   "outputs": [
    {
     "name": "stdout",
     "output_type": "stream",
     "text": [
      "{'emp001': {'name': 'alice', 'age': 30, 'department': 'HR'}, 'emp002': {'name': 'BOB', 'age': 23, 'department': 'CR'}, 'emp003': {'name': 'charlie', 'age': 20, 'department': 'FINANCE'}, 'emp004': {'name': 'david', 'age': 44, 'department': 'marketing'}}\n"
     ]
    }
   ],
   "source": [
    "company['emp004'] = {\n",
    "      'name':'david',\n",
    "      'age':44,\n",
    "      'department':'marketing'\n",
    "}\n",
    "print(company)"
   ]
  },
  {
   "cell_type": "code",
   "execution_count": 13,
   "id": "79ecba24",
   "metadata": {},
   "outputs": [
    {
     "data": {
      "text/plain": [
       "'CR'"
      ]
     },
     "execution_count": 13,
     "metadata": {},
     "output_type": "execute_result"
    }
   ],
   "source": [
    "company['emp002']['department']\n"
   ]
  },
  {
   "cell_type": "code",
   "execution_count": 14,
   "id": "c3672b32",
   "metadata": {},
   "outputs": [],
   "source": [
    "#print the average temprature of lko key of temp dictionary"
   ]
  },
  {
   "cell_type": "code",
   "execution_count": 15,
   "id": "f23335a8",
   "metadata": {},
   "outputs": [
    {
     "name": "stdout",
     "output_type": "stream",
     "text": [
      "37.5\n"
     ]
    }
   ],
   "source": [
    "print(sum(temp['lko'])/len(temp['lko']))"
   ]
  },
  {
   "cell_type": "code",
   "execution_count": null,
   "id": "e63a7d7d",
   "metadata": {},
   "outputs": [],
   "source": []
  }
 ],
 "metadata": {
  "kernelspec": {
   "display_name": "base",
   "language": "python",
   "name": "python3"
  },
  "language_info": {
   "codemirror_mode": {
    "name": "ipython",
    "version": 3
   },
   "file_extension": ".py",
   "mimetype": "text/x-python",
   "name": "python",
   "nbconvert_exporter": "python",
   "pygments_lexer": "ipython3",
   "version": "3.13.5"
  }
 },
 "nbformat": 4,
 "nbformat_minor": 5
}
